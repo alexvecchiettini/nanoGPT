{
 "cells": [
  {
   "attachments": {},
   "cell_type": "markdown",
   "metadata": {},
   "source": [
    "## nanoGPT trained on Harry Potter Dataset"
   ]
  },
  {
   "attachments": {},
   "cell_type": "markdown",
   "metadata": {},
   "source": [
    "### Problem  Statemet"
   ]
  },
  {
   "attachments": {},
   "cell_type": "markdown",
   "metadata": {},
   "source": [
    "1. Creating a character-level GPT on the books of Harry Potter.\n",
    "2. Fine-tuning GPT-2(created by Karpathy) on the books of Harry Potter.\n",
    "\n",
    "This project is based on the Karpathy's work - https://github.com/karpathy/nanoGPT"
   ]
  },
  {
   "cell_type": "markdown",
   "metadata": {},
   "source": [
    "### The Dataset"
   ]
  },
  {
   "attachments": {},
   "cell_type": "markdown",
   "metadata": {},
   "source": [
    "The dataset was downloaded from - https://github.com/priya-dwivedi/Deep-Learning/tree/master/GPT2-HarryPotter-Training/books\n",
    "\n",
    "All files were then merged and fed into the model."
   ]
  },
  {
   "cell_type": "code",
   "execution_count": 1,
   "metadata": {},
   "outputs": [],
   "source": [
    "# Reading the file\n",
    "with open('harry_potter_series.txt', 'r', encoding='utf-8') as f:\n",
    "    text = f.read()"
   ]
  },
  {
   "cell_type": "code",
   "execution_count": 2,
   "metadata": {},
   "outputs": [
    {
     "name": "stdout",
     "output_type": "stream",
     "text": [
      "length of dataset in characters:  6765168\n"
     ]
    }
   ],
   "source": [
    "print(\"length of dataset in characters: \", len(text))"
   ]
  },
  {
   "cell_type": "code",
   "execution_count": 3,
   "metadata": {},
   "outputs": [
    {
     "name": "stdout",
     "output_type": "stream",
     "text": [
      "/ \n",
      "\n",
      "\n",
      "\n",
      "\n",
      "THE BOY WHO LIVED \n",
      "\n",
      "Mr. and Mrs. Dursley, of number four, Privet Drive, \n",
      "were proud to say that they were perfectly normal, \n",
      "thank you very much. They were the last people you’d \n",
      "expect to be involved in anything strange or \n",
      "mysterious, because they just didn’t hold with such \n",
      "nonsense. \n",
      "\n",
      "Mr. Dursley was the director of a firm called \n",
      "Grunnings, which made drills. He was a big, beefy \n",
      "man with hardly any neck, although he did have a \n",
      "very large mustache. Mrs. Dursley was thin and \n",
      "blonde and had nearly twice the usual amount of \n",
      "neck, which came in very useful as she spent so \n",
      "much of her time craning over garden fences, spying \n",
      "on the neighbors. The Dursley s had a small son \n",
      "called Dudley and in their opinion there was no finer \n",
      "boy anywhere. \n",
      "\n",
      "The Dursleys had everything they wanted, but they \n",
      "also had a secret, and their greatest fear was that \n",
      "somebody would discover it. They didn’t think they \n",
      "could bear it if anyone found out about the Potters. \n",
      "Mrs. Potter was Mrs. Dursl\n"
     ]
    }
   ],
   "source": [
    "# let's look at the first 1000 characters\n",
    "print(text[:1000])"
   ]
  },
  {
   "cell_type": "code",
   "execution_count": 4,
   "metadata": {},
   "outputs": [
    {
     "name": "stdout",
     "output_type": "stream",
     "text": [
      "\n",
      " !\"%&'()*,-./0123456789:;>?ABCDEFGHIJKLMNOPQRSTUVWXYZ\\]abcdefghijklmnopqrstuvwxyz|~—‘’“”•■□\n",
      "92\n"
     ]
    }
   ],
   "source": [
    "# here are all the unique characters that occur in this text\n",
    "chars = sorted(list(set(text)))\n",
    "vocab_size = len(chars)\n",
    "print(''.join(chars))\n",
    "print(vocab_size)"
   ]
  },
  {
   "attachments": {},
   "cell_type": "markdown",
   "metadata": {},
   "source": [
    "### Methodology"
   ]
  },
  {
   "cell_type": "code",
   "execution_count": null,
   "metadata": {},
   "outputs": [],
   "source": []
  },
  {
   "attachments": {},
   "cell_type": "markdown",
   "metadata": {},
   "source": [
    "### Results"
   ]
  },
  {
   "attachments": {},
   "cell_type": "markdown",
   "metadata": {},
   "source": [
    "The following graphs were created on https://wandb.ai/ platform. \n",
    "\n",
    "We used this platform to keep track of our hyperparameters, system metrics, predictions and losses\n",
    "\n",
    "#### Graphs for Character-level GPT:\n",
    "\n",
    "**A. Iteration vs Step**\n",
    "<img src=\"harrypotter_char_iter.png\" alt=\"Iteration vs Step\" />\n",
    "\n",
    "**B. Train loss vs Step**\n",
    "<img src=\"harrypotter_char_train_loss.png\" alt=\"Train loss vs Step\" />\n",
    "\n",
    "**C. Val loss vs Step**\n",
    "<img src=\"harrypotter_char_val_loss.png\" alt=\"Val loss vs Step\" />\n",
    "\n",
    "#### Graphs for GPT-2:\n",
    "\n",
    "**A. Iteration vs Step**\n",
    "<img src=\"harrypotter_gpt2_iter.png\" alt=\"Iteration vs Step\" />\n",
    "\n",
    "**B. Train loss vs Step**\n",
    "<img src=\"harrypotter_gpt2_train_loss.png\" alt=\"Train loss vs Step\" />\n",
    "\n",
    "**C. Val loss vs Step**\n",
    "<img src=\"harrypotter_gpt2_val_loss.png\" alt=\"Val loss vs Step\" />"
   ]
  },
  {
   "attachments": {},
   "cell_type": "markdown",
   "metadata": {},
   "source": [
    "### Conclusion"
   ]
  },
  {
   "attachments": {},
   "cell_type": "markdown",
   "metadata": {},
   "source": [
    "### Refrences"
   ]
  },
  {
   "attachments": {},
   "cell_type": "markdown",
   "metadata": {},
   "source": [
    "https://github.com/karpathy/nanoGPT\n",
    "\n",
    "https://github.com/priya-dwivedi/Deep-Learning/tree/master/GPT2-HarryPotter-Training/books"
   ]
  }
 ],
 "metadata": {
  "kernelspec": {
   "display_name": "Python 3",
   "language": "python",
   "name": "python3"
  },
  "language_info": {
   "codemirror_mode": {
    "name": "ipython",
    "version": 3
   },
   "file_extension": ".py",
   "mimetype": "text/x-python",
   "name": "python",
   "nbconvert_exporter": "python",
   "pygments_lexer": "ipython3",
   "version": "3.10.8"
  },
  "orig_nbformat": 4
 },
 "nbformat": 4,
 "nbformat_minor": 2
}
